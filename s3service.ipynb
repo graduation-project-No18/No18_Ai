{
  "cells": [
    {
      "cell_type": "code",
      "metadata": {},
      "source": [
        "import boto3\n",
        "from dotenv import load_dotenv\n",
        "import os\n",
        "\n",
        "load_dotenv()\n",
        "bucket = 'no18'\n",
        "\n",
        "\n",
        "def downloads_recording(member_nickname, file_name):\n",
        "    s3 = boto3.resource('s3',\n",
        "                        aws_access_key_id=os.environ.get('AWS_ACCESS_KEY'),\n",
        "                        aws_secret_access_key=os.environ.get('AWS_SECRET_ACCESS_KEY'))\n",
        "    key = member_nickname + '/' + file_name\n",
        "    s3.Bucket(bucket).download_file(Key=key, Filename='recordings/'+file_name)\n",
        "    return file_name\n"
      ],
      "outputs": [],
      "execution_count": null
    }
  ],
  "metadata": {
    "anaconda-cloud": {},
    "kernelspec": {
      "display_name": "Python 3",
      "language": "python",
      "name": "python3"
    },
    "language_info": {
      "codemirror_mode": {
        "name": "ipython",
        "version": 3
      },
      "file_extension": ".py",
      "mimetype": "text/x-python",
      "name": "python",
      "nbconvert_exporter": "python",
      "pygments_lexer": "ipython3",
      "version": "3.6.1"
    }
  },
  "nbformat": 4,
  "nbformat_minor": 4
}