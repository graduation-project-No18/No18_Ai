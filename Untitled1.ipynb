{
 "cells": [
  {
   "cell_type": "code",
   "execution_count": 12,
   "id": "29e1b0bd",
   "metadata": {},
   "outputs": [
    {
     "name": "stdout",
     "output_type": "stream",
     "text": [
      "노래의 최고 옥타브: 4.170693277864598 \n",
      "최고 주파수: 495.263671875\n"
     ]
    }
   ],
   "source": [
    "import librosa\n",
    "import numpy as np\n",
    "\n",
    "# 오디오 파일 로드\n",
    "audio_file = '윤하-사건의지평선.wav'\n",
    "y, sr = librosa.load(audio_file)\n",
    "\n",
    "# 스펙트럼 계산\n",
    "n_fft = 2048  # 원하는 FFT 크기 지정\n",
    "D = librosa.stft(y, n_fft=n_fft)\n",
    "mag, _ = librosa.magphase(D)\n",
    "\n",
    "# 스펙트럼에서 최대값 찾기\n",
    "max_mag = mag.max()\n",
    "max_freq_index = np.where(mag == max_mag)[0][0]\n",
    "\n",
    "# 최고 주파수를 Hz로 변환\n",
    "max_freq_hz = librosa.core.fft_frequencies(sr=sr, n_fft=n_fft)[max_freq_index]\n",
    "\n",
    "# 최고 주파수를 옥타브로 변환\n",
    "max_octave = librosa.hz_to_octs(max_freq_hz)\n",
    "\n",
    "print('노래의 최고 옥타브:', max_octave, '\\n최고 주파수:',max_freq_hz)"
   ]
  },
  {
   "cell_type": "code",
   "execution_count": null,
   "id": "ff523369",
   "metadata": {},
   "outputs": [],
   "source": []
  }
 ],
 "metadata": {
  "kernelspec": {
   "display_name": "Python 3 (ipykernel)",
   "language": "python",
   "name": "python3"
  },
  "language_info": {
   "codemirror_mode": {
    "name": "ipython",
    "version": 3
   },
   "file_extension": ".py",
   "mimetype": "text/x-python",
   "name": "python",
   "nbconvert_exporter": "python",
   "pygments_lexer": "ipython3",
   "version": "3.10.9"
  }
 },
 "nbformat": 4,
 "nbformat_minor": 5
}
