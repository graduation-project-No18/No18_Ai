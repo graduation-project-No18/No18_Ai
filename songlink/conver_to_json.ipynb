{
 "cells": [
  {
   "cell_type": "code",
   "execution_count": 1,
   "id": "4ea70e2b",
   "metadata": {},
   "outputs": [],
   "source": [
    "import json\n",
    "\n",
    "def converJson(ipynb_path, json_path):\n",
    "    with open(ipynb_path,'r', encoding='UTF-8') as ipynb_file:\n",
    "        ipynb_data=json.load(ipynb_file)\n",
    "    with open(json_path,'w') as json_file:\n",
    "        json.dump(ipynb_data, json_file)\n",
    "\n",
    "        \n",
    "ipynb_path='recommendSong.ipynb'\n",
    "json_path='recommendSong.json'\n",
    "\n",
    "converJson(ipynb_path,json_path)"
   ]
  },
  {
   "cell_type": "code",
   "execution_count": null,
   "id": "43431852",
   "metadata": {},
   "outputs": [],
   "source": []
  }
 ],
 "metadata": {
  "kernelspec": {
   "display_name": "Python 3 (ipykernel)",
   "language": "python",
   "name": "python3"
  },
  "language_info": {
   "codemirror_mode": {
    "name": "ipython",
    "version": 3
   },
   "file_extension": ".py",
   "mimetype": "text/x-python",
   "name": "python",
   "nbconvert_exporter": "python",
   "pygments_lexer": "ipython3",
   "version": "3.9.13"
  }
 },
 "nbformat": 4,
 "nbformat_minor": 5
}
