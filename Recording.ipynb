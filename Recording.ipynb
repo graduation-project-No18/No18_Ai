{
  "cells": [
    {
      "cell_type": "code",
      "metadata": {},
      "source": [
        "from pydantic import BaseModel\n",
        "from typing import Union\n",
        "\n",
        "\n",
        "class Recording(BaseModel):\n",
        "    member_id: str\n",
        "    member_nickname: str\n",
        "    file_name: str\n"
      ],
      "outputs": [],
      "execution_count": null
    }
  ],
  "metadata": {
    "anaconda-cloud": {},
    "kernelspec": {
      "display_name": "Python 3",
      "language": "python",
      "name": "python3"
    },
    "language_info": {
      "codemirror_mode": {
        "name": "ipython",
        "version": 3
      },
      "file_extension": ".py",
      "mimetype": "text/x-python",
      "name": "python",
      "nbconvert_exporter": "python",
      "pygments_lexer": "ipython3",
      "version": "3.6.1"
    }
  },
  "nbformat": 4,
  "nbformat_minor": 4
}