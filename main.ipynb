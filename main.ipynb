{
 "cells": [
  {
   "cell_type": "code",
   "execution_count": 3,
   "metadata": {},
   "outputs": [],
   "source": [
    "from fastapi import FastAPI\n",
    "from Recording import Recording\n",
    "import s3service\n",
    "from pydub import AudioSegment\n",
    "import sys\n",
    "\n",
    "sys.path.append('C:/Users/Home/Desktop')\n",
    "\n",
    "app = FastAPI()\n",
    "\n",
    "\n",
    "@app.get(\"/\")\n",
    "async def root():\n",
    "    return {\"message\": \"Hello World\"}\n",
    "\n",
    "\n",
    "@app.get(\"/hello/{name}\")\n",
    "async def say_hello(name: str):\n",
    "    return {\"message\": f\"Hello {name}\"}\n",
    "\n",
    "\n",
    "@app.post(\"/api/classification\")\n",
    "async def classify_octave_and_recommendation_songs(recording: Recording):\n",
    "    print(\"processiong\")\n",
    "    member_nickname = recording.member_nickname\n",
    "    file_name = recording.file_name\n",
    "    str = s3service.downloads_recording(member_nickname, file_name)\n",
    "\n",
    "    audio = AudioSegment.from_file('recordings/'+str)\n",
    "    audio.export(member_nickname+'.wav', format='wav')\n",
    "\n",
    "\n",
    "\n",
    "\n",
    "\n",
    "\n",
    "\n",
    "    \n",
    "\n"
   ]
  },
  {
   "cell_type": "code",
   "execution_count": null,
   "metadata": {},
   "outputs": [],
   "source": []
  }
 ],
 "metadata": {
  "anaconda-cloud": {},
  "kernelspec": {
   "display_name": "Python 3 (ipykernel)",
   "language": "python",
   "name": "python3"
  },
  "language_info": {
   "codemirror_mode": {
    "name": "ipython",
    "version": 3
   },
   "file_extension": ".py",
   "mimetype": "text/x-python",
   "name": "python",
   "nbconvert_exporter": "python",
   "pygments_lexer": "ipython3",
   "version": "3.10.9"
  }
 },
 "nbformat": 4,
 "nbformat_minor": 4
}
