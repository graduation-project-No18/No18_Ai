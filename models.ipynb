{
  "cells": [
    {
      "cell_type": "code",
      "metadata": {},
      "source": [
        "from sqlalchemy import create_engine\n",
        "from sqlalchemy.ext.declarative import declarative_base\n",
        "from sqlalchemy.orm import sessionmaker\n",
        "\n",
        "\n",
        "SQLALCHEMY_DATABASE_URL = \"\"\n",
        "\n",
        "engine = create_engine(\n",
        "    SQLALCHEMY_DATABASE_URL, connect_args={\"check_same_thread\": False}\n",
        ")\n",
        "\n",
        "Session_Local = sessionmaker(autoflush=False, bind=engine)\n",
        "\n",
        "Base = declarative_base"
      ],
      "outputs": [],
      "execution_count": null
    }
  ],
  "metadata": {
    "anaconda-cloud": {},
    "kernelspec": {
      "display_name": "Python 3",
      "language": "python",
      "name": "python3"
    },
    "language_info": {
      "codemirror_mode": {
        "name": "ipython",
        "version": 3
      },
      "file_extension": ".py",
      "mimetype": "text/x-python",
      "name": "python",
      "nbconvert_exporter": "python",
      "pygments_lexer": "ipython3",
      "version": "3.6.1"
    }
  },
  "nbformat": 4,
  "nbformat_minor": 4
}