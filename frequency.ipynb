{
 "cells": [
  {
   "cell_type": "code",
   "execution_count": 52,
   "id": "3525c844",
   "metadata": {
    "scrolled": true
   },
   "outputs": [
    {
     "name": "stdout",
     "output_type": "stream",
     "text": [
      "206.8823341587939\n",
      "[[206.88233416]]\n",
      "Predicted Label: ['G#3']\n"
     ]
    }
   ],
   "source": [
    "import librosa\n",
    "import numpy as np\n",
    "import pandas as pd\n",
    "from sklearn.preprocessing import StandardScaler\n",
    "from sklearn.tree import DecisionTreeClassifier\n",
    "from sklearn.model_selection import train_test_split\n",
    "from sklearn.metrics import accuracy_score\n",
    "\n",
    "# CSV 파일에서 데이터 불러오기\n",
    "data = pd.read_csv('doremi_fre.csv')\n",
    "\n",
    "# 피쳐와 레이블 분리\n",
    "X = data.iloc[:, 0].values.reshape(47, 1)\n",
    "y = data.iloc[:, 1]\n",
    "\n",
    "# 학습 데이터와 검증 데이터로 분리\n",
    "X_train, X_test, y_train, y_test = train_test_split(X, y, test_size=0.001)\n",
    "\n",
    "# 의사결정나무 모델 생성 및 학습\n",
    "dt = DecisionTreeClassifier(random_state=42)\n",
    "dt.fit(X_train, y_train)\n",
    "\n",
    "\n",
    "ys, sr = librosa.load('user_voice3high.wav')\n",
    "start = int(1 * sr)\n",
    "end = int(2 * sr)\n",
    "f0, voiced_flag, voiced_probs = librosa.pyin(ys[start:end], fmin=librosa.note_to_hz('C1'), fmax=librosa.note_to_hz('B4'))\n",
    "valid_pitch = f0[~np.isnan(f0)]\n",
    "\n",
    "pitch_mean = np.nanmean(valid_pitch)\n",
    "print(pitch_mean)\n",
    "\n",
    "pitch_mean_reshaped = pitch_mean.reshape(-1, 1)  # reshape\n",
    "print(pitch_mean_reshaped)\n",
    "\n",
    "\n",
    "# 분류 결과 출력\n",
    "predicted = dt.predict(pitch_mean_reshaped)  # 사용할 변수 재할당\n",
    "print('Predicted Label:', predicted) "
   ]
  },
  {
   "cell_type": "code",
   "execution_count": null,
   "id": "3016ba52",
   "metadata": {},
   "outputs": [],
   "source": []
  }
 ],
 "metadata": {
  "kernelspec": {
   "display_name": "Python 3 (ipykernel)",
   "language": "python",
   "name": "python3"
  },
  "language_info": {
   "codemirror_mode": {
    "name": "ipython",
    "version": 3
   },
   "file_extension": ".py",
   "mimetype": "text/x-python",
   "name": "python",
   "nbconvert_exporter": "python",
   "pygments_lexer": "ipython3",
   "version": "3.10.9"
  }
 },
 "nbformat": 4,
 "nbformat_minor": 5
}
